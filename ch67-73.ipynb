{
 "cells": [
  {
   "cell_type": "code",
   "execution_count": 1,
   "metadata": {},
   "outputs": [],
   "source": [
    "import csv"
   ]
  },
  {
   "cell_type": "code",
   "execution_count": 3,
   "metadata": {},
   "outputs": [],
   "source": [
    "with open(\"DataSet.csv\") as f:\n",
    "    content_of_file = csv.reader(f)"
   ]
  },
  {
   "cell_type": "code",
   "execution_count": 6,
   "metadata": {},
   "outputs": [],
   "source": [
    "with open(\"DataSet.csv\") as f: \n",
    "    reader_of_file = csv.reader(f)\n",
    "    potter_competitions = []\n",
    "    for each_line in reader_of_file:\n",
    "        potter_competitions+=each_line"
   ]
  },
  {
   "cell_type": "code",
   "execution_count": 11,
   "metadata": {},
   "outputs": [
    {
     "name": "stdout",
     "output_type": "stream",
     "text": [
      "['Developer', 'Age', 'Salary', 'Married', 'Karachi', '42', '78000', 'No', 'Lahore', '32', '48000', 'Yes', 'Karachi', '36', '60000', 'No', 'Multan', '41', '68000', 'No', 'Lahore', '42', '', 'Yes', 'Multan', '43', '59000', 'Yes', 'Karachi', '', '59000', 'No', 'Lahore', '44', '79000', 'Yes', 'Multan', '52', '99000', 'No', 'Lahore', '32', '69000', 'Yes']\n"
     ]
    }
   ],
   "source": [
    "print(potter_competitions)    "
   ]
  },
  {
   "cell_type": "code",
   "execution_count": 12,
   "metadata": {},
   "outputs": [
    {
     "name": "stdout",
     "output_type": "stream",
     "text": [
      "Karachi\n"
     ]
    }
   ],
   "source": [
    "print(potter_competitions[4])    "
   ]
  },
  {
   "cell_type": "code",
   "execution_count": 13,
   "metadata": {},
   "outputs": [],
   "source": [
    "index_number_of_target =potter_competitions.index(\"Lahore\")"
   ]
  },
  {
   "cell_type": "code",
   "execution_count": 14,
   "metadata": {},
   "outputs": [
    {
     "data": {
      "text/plain": [
       "8"
      ]
     },
     "execution_count": 14,
     "metadata": {},
     "output_type": "execute_result"
    }
   ],
   "source": [
    "index_number_of_target"
   ]
  },
  {
   "cell_type": "code",
   "execution_count": 17,
   "metadata": {},
   "outputs": [],
   "source": [
    "with open(\"DataSet.csv\", \"w\", newline=\"\") as f:\n",
    "    data_handler = csv.writer(f, delimiter=\",\")\n",
    "    data_handler.writerow([\"Year\", \"Event\",\"Winner\"])\n",
    "    data_handler.writerow([\"1995\", \"Best-Kept Lawn\",\"None\"])"
   ]
  },
  {
   "cell_type": "code",
   "execution_count": null,
   "metadata": {},
   "outputs": [],
   "source": []
  }
 ],
 "metadata": {
  "kernelspec": {
   "display_name": "Python 3",
   "language": "python",
   "name": "python3"
  },
  "language_info": {
   "codemirror_mode": {
    "name": "ipython",
    "version": 3
   },
   "file_extension": ".py",
   "mimetype": "text/x-python",
   "name": "python",
   "nbconvert_exporter": "python",
   "pygments_lexer": "ipython3",
   "version": "3.7.6"
  }
 },
 "nbformat": 4,
 "nbformat_minor": 4
}
